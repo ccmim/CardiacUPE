{
 "cells": [
  {
   "cell_type": "code",
   "execution_count": 1,
   "id": "22d30a0f",
   "metadata": {},
   "outputs": [],
   "source": [
    "import os\n",
    "HOME = os.environ[\"HOME\"]\n",
    "os.environ[\"CARDIAC_GWAS_REPO\"] = CARDIAC_GWAS_REPO = f\"{HOME}/01_repos/CardiacGWAS\"\n",
    "os.environ[\"CARDIAC_COMA_REPO\"] = CARDIAC_COMA_REPO = f\"{HOME}/01_repos/CardiacCOMA/\"\n",
    "os.environ[\"GWAS_REPO\"] = GWAS_REPO = f\"{HOME}/01_repos/GWAS_pipeline/\"\n",
    "\n",
    "MLRUNS_DIR = f\"{CARDIAC_COMA_REPO}/mlruns\"\n",
    "#os.chdir(CARDIAC_COMA_REPO)"
   ]
  },
  {
   "cell_type": "code",
   "execution_count": 2,
   "id": "48550f22",
   "metadata": {},
   "outputs": [],
   "source": [
    "import mlflow\n",
    "from mlflow.tracking import MlflowClient\n",
    "\n",
    "import os, sys\n",
    "\n",
    "import torch\n",
    "import torch.nn.functional as F\n",
    "\n",
    "from CardiacCOMA.config.cli_args import overwrite_config_items\n",
    "from CardiacCOMA.config.load_config import load_yaml_config, to_dict\n",
    "from CardiacCOMA.utils.helpers import get_datamodule, get_lightning_module\n",
    "from CardiacCOMA.utils.mlflow_helpers import get_model_pretrained_weights\n",
    "from CardiacCOMA.utils.CardioMesh.CardiacMesh import transform_mesh\n",
    "\n",
    "import ipywidgets as widgets\n",
    "from ipywidgets import interact\n",
    "from IPython.display import Image, display, Markdown, clear_output\n",
    "\n",
    "import pandas as pd\n",
    "import shlex\n",
    "from subprocess import check_output\n",
    "\n",
    "import pickle as pkl\n",
    "import pytorch_lightning as pl\n",
    "\n",
    "from argparse import Namespace\n",
    "import matplotlib.pyplot as plt\n",
    "\n",
    "import numpy as np\n",
    "import pandas as pd\n",
    "from IPython import embed\n",
    "sys.path.insert(0, '..')\n",
    "\n",
    "from copy import deepcopy\n",
    "from pprint import pprint\n",
    "\n",
    "from typing import List\n",
    "from tqdm import tqdm\n",
    "\n",
    "import pandas as pd\n",
    "\n",
    "import pyvista as pv\n",
    "from ipywidgets import interact, interactive, fixed, interact_manual\n",
    "\n",
    "from auxiliary import load_data\n",
    "from auxiliary import get_model_pretrained_weights"
   ]
  },
  {
   "cell_type": "code",
   "execution_count": 3,
   "id": "20b88e3c",
   "metadata": {},
   "outputs": [],
   "source": [
    "good_runs_df = pd.read_csv(f\"{CARDIAC_GWAS_REPO}/results/good_runs.csv\")\n",
    "run_ids = good_runs_df.run_id.to_list()"
   ]
  },
  {
   "cell_type": "code",
   "execution_count": 4,
   "id": "72955149",
   "metadata": {},
   "outputs": [
    {
     "name": "stdout",
     "output_type": "stream",
     "text": [
      "Loading mesh data...\n",
      "Mesh data loaded successfully.\n",
      "Loading Procrustes transforms...\n",
      "Procrustes transform loaded successfully.\n"
     ]
    }
   ],
   "source": [
    "def load_data(b):\n",
    "    global meshes, procrustes_transforms\n",
    "    print(\"Loading mesh data...\")\n",
    "    meshes = pkl.load(open(f\"{CARDIAC_COMA_REPO}/data/cardio/LV_meshes_at_ED_35k.pkl\", \"rb\"))\n",
    "    print(\"Mesh data loaded successfully.\")\n",
    "    \n",
    "    print(\"Loading Procrustes transforms...\")\n",
    "    procrustes_transforms = pkl.load(open(f\"{CARDIAC_COMA_REPO}/data/cardio/procrustes_transforms_35k.pkl\", \"rb\"))\n",
    "    print(\"Procrustes transform loaded successfully.\")\n",
    "    \n",
    "button = widgets.Button(\n",
    "    description='Load data',\n",
    "    disabled=False,\n",
    "    tooltip='Click me',\n",
    "    icon='check' # (FontAwesome names without the `fa-` prefix)\n",
    ")\n",
    "\n",
    "load_data(1)\n",
    "#button.on_click(load_data)\n",
    "#button    "
   ]
  },
  {
   "cell_type": "code",
   "execution_count": 5,
   "id": "fa07b9fe-75d6-4c5f-af9d-64c3984bc0f1",
   "metadata": {},
   "outputs": [],
   "source": [
    "ids = [ str(id) for id in meshes ] "
   ]
  },
  {
   "cell_type": "code",
   "execution_count": 6,
   "id": "9322d562",
   "metadata": {},
   "outputs": [],
   "source": [
    "import random\n",
    "pv.set_plot_theme(\"document\")\n",
    "\n",
    "faces, _ = pkl.load(open(f\"{CARDIAC_COMA_REPO}/data/cardio/faces_and_downsampling_mtx_frac_0.1_LV.pkl\", \"rb\")).values()\n",
    "faces = np.c_[np.ones(faces.shape[0]) * 3, faces].astype(int)\n",
    "\n",
    "color_palette = list(pv.colors.color_names.values())\n",
    "random.shuffle(color_palette)"
   ]
  },
  {
   "cell_type": "markdown",
   "id": "163df1f3",
   "metadata": {},
   "source": [
    "# Select genetic locus"
   ]
  },
  {
   "cell_type": "code",
   "execution_count": 7,
   "id": "33ca1254",
   "metadata": {},
   "outputs": [],
   "source": [
    "gwas_harmonized_pattern = \"data/other_gwas/preprocessed_files/{prefix}__{phenotype}.tsv\"\n",
    "gwas_selected_snps_pattern = \"data/other_gwas/preprocessed_files/{prefix}__{phenotype}__selected_snps.tsv\"\n",
    "COMA_GWAS_SUMMARY = \"results/gwas_loci_summary_across_runs.csv\"\n",
    "LOGP_PATH = \"results/log10p_for_selected_snps_across_gwas.csv\""
   ]
  },
  {
   "cell_type": "code",
   "execution_count": 8,
   "id": "6d4241d0",
   "metadata": {},
   "outputs": [],
   "source": [
    "gwas_loci_summary_across_runs_df = pd.read_csv(COMA_GWAS_SUMMARY)\n",
    "\n",
    "# get index of best locus/variable\n",
    "idx = gwas_loci_summary_across_runs_df.groupby([\"region\"])[\"P\"].transform(min) == gwas_loci_summary_across_runs_df[\"P\"]\n",
    "\n",
    "best_association_per_region = gwas_loci_summary_across_runs_df[idx].sort_values(\"region\")\n",
    "best_snps = set(best_association_per_region.SNP)\n",
    "\n",
    "regions = { \n",
    "    f\"{assoc[1].region} ({assoc[1].P:.1e})\": assoc[1].region \n",
    "    for assoc in best_association_per_region.sort_values(\"P\").iterrows() \n",
    "} \n",
    "\n",
    "del regions[\"chr6_79 (4.5e-20)\"]\n",
    "\n",
    "_best_association_per_region = best_association_per_region.set_index(\"region\")\n",
    "# assoc = _best_association_per_region.loc[region]\n",
    "#run_id, z_variable = assoc.run, assoc.pheno[-4:]"
   ]
  },
  {
   "cell_type": "code",
   "execution_count": 9,
   "id": "d9e804e5",
   "metadata": {},
   "outputs": [
    {
     "data": {
      "text/html": [
       "<div>\n",
       "<style scoped>\n",
       "    .dataframe tbody tr th:only-of-type {\n",
       "        vertical-align: middle;\n",
       "    }\n",
       "\n",
       "    .dataframe tbody tr th {\n",
       "        vertical-align: top;\n",
       "    }\n",
       "\n",
       "    .dataframe thead th {\n",
       "        text-align: right;\n",
       "    }\n",
       "</style>\n",
       "<table border=\"1\" class=\"dataframe\">\n",
       "  <thead>\n",
       "    <tr style=\"text-align: right;\">\n",
       "      <th></th>\n",
       "      <th>run</th>\n",
       "      <th>pheno</th>\n",
       "      <th>CHR</th>\n",
       "      <th>SNP</th>\n",
       "      <th>BP</th>\n",
       "      <th>AF</th>\n",
       "      <th>a_0</th>\n",
       "      <th>a_1</th>\n",
       "      <th>BETA</th>\n",
       "      <th>SE</th>\n",
       "      <th>T</th>\n",
       "      <th>P</th>\n",
       "      <th>locus_name</th>\n",
       "    </tr>\n",
       "    <tr>\n",
       "      <th>region</th>\n",
       "      <th></th>\n",
       "      <th></th>\n",
       "      <th></th>\n",
       "      <th></th>\n",
       "      <th></th>\n",
       "      <th></th>\n",
       "      <th></th>\n",
       "      <th></th>\n",
       "      <th></th>\n",
       "      <th></th>\n",
       "      <th></th>\n",
       "      <th></th>\n",
       "      <th></th>\n",
       "    </tr>\n",
       "  </thead>\n",
       "  <tbody>\n",
       "    <tr>\n",
       "      <th>chr10_20</th>\n",
       "      <td>e6490cf8389f4e7da52fef013562770f</td>\n",
       "      <td>1_e6490_z012</td>\n",
       "      <td>10.0</td>\n",
       "      <td>rs2797593</td>\n",
       "      <td>28655648.0</td>\n",
       "      <td>0.358680</td>\n",
       "      <td>A</td>\n",
       "      <td>C</td>\n",
       "      <td>0.049402</td>\n",
       "      <td>0.008336</td>\n",
       "      <td>5.9265</td>\n",
       "      <td>3.126079e-09</td>\n",
       "      <td>Unnamed</td>\n",
       "    </tr>\n",
       "    <tr>\n",
       "      <th>chr10_69</th>\n",
       "      <td>8b630b3a67f94ec2853645fe0314a424</td>\n",
       "      <td>1_8b630_z003</td>\n",
       "      <td>10.0</td>\n",
       "      <td>rs189569984</td>\n",
       "      <td>112544125.0</td>\n",
       "      <td>0.008998</td>\n",
       "      <td>C</td>\n",
       "      <td>T</td>\n",
       "      <td>-0.246570</td>\n",
       "      <td>0.041965</td>\n",
       "      <td>-5.8757</td>\n",
       "      <td>4.253045e-09</td>\n",
       "      <td>RBM20</td>\n",
       "    </tr>\n",
       "    <tr>\n",
       "      <th>chr10_74</th>\n",
       "      <td>b0ca240bf966455888005eee1e1fed99</td>\n",
       "      <td>1_b0ca2_z004</td>\n",
       "      <td>10.0</td>\n",
       "      <td>rs375034445</td>\n",
       "      <td>121424815.0</td>\n",
       "      <td>0.214880</td>\n",
       "      <td>A</td>\n",
       "      <td>AT</td>\n",
       "      <td>-0.056170</td>\n",
       "      <td>0.009752</td>\n",
       "      <td>-5.7600</td>\n",
       "      <td>8.489850e-09</td>\n",
       "      <td>Unnamed</td>\n",
       "    </tr>\n",
       "    <tr>\n",
       "      <th>chr11_2</th>\n",
       "      <td>a7d3200ce0fb43d586d53db5afff50d9</td>\n",
       "      <td>1_a7d32_z005</td>\n",
       "      <td>11.0</td>\n",
       "      <td>rs569550</td>\n",
       "      <td>1887068.0</td>\n",
       "      <td>0.386020</td>\n",
       "      <td>T</td>\n",
       "      <td>G</td>\n",
       "      <td>-0.057778</td>\n",
       "      <td>0.008179</td>\n",
       "      <td>-7.0643</td>\n",
       "      <td>1.648162e-12</td>\n",
       "      <td>LSP1*</td>\n",
       "    </tr>\n",
       "    <tr>\n",
       "      <th>chr11_32</th>\n",
       "      <td>cc438c4acf664d5ab05ed79686968a06</td>\n",
       "      <td>1_cc438_z003</td>\n",
       "      <td>11.0</td>\n",
       "      <td>rs371701829</td>\n",
       "      <td>57864175.0</td>\n",
       "      <td>0.321240</td>\n",
       "      <td>CT</td>\n",
       "      <td>C</td>\n",
       "      <td>0.053399</td>\n",
       "      <td>0.008821</td>\n",
       "      <td>6.0537</td>\n",
       "      <td>1.431858e-09</td>\n",
       "      <td>Unnamed</td>\n",
       "    </tr>\n",
       "  </tbody>\n",
       "</table>\n",
       "</div>"
      ],
      "text/plain": [
       "                                       run         pheno   CHR          SNP  \\\n",
       "region                                                                        \n",
       "chr10_20  e6490cf8389f4e7da52fef013562770f  1_e6490_z012  10.0    rs2797593   \n",
       "chr10_69  8b630b3a67f94ec2853645fe0314a424  1_8b630_z003  10.0  rs189569984   \n",
       "chr10_74  b0ca240bf966455888005eee1e1fed99  1_b0ca2_z004  10.0  rs375034445   \n",
       "chr11_2   a7d3200ce0fb43d586d53db5afff50d9  1_a7d32_z005  11.0     rs569550   \n",
       "chr11_32  cc438c4acf664d5ab05ed79686968a06  1_cc438_z003  11.0  rs371701829   \n",
       "\n",
       "                   BP        AF a_0 a_1      BETA        SE       T  \\\n",
       "region                                                                \n",
       "chr10_20   28655648.0  0.358680   A   C  0.049402  0.008336  5.9265   \n",
       "chr10_69  112544125.0  0.008998   C   T -0.246570  0.041965 -5.8757   \n",
       "chr10_74  121424815.0  0.214880   A  AT -0.056170  0.009752 -5.7600   \n",
       "chr11_2     1887068.0  0.386020   T   G -0.057778  0.008179 -7.0643   \n",
       "chr11_32   57864175.0  0.321240  CT   C  0.053399  0.008821  6.0537   \n",
       "\n",
       "                     P locus_name  \n",
       "region                             \n",
       "chr10_20  3.126079e-09    Unnamed  \n",
       "chr10_69  4.253045e-09      RBM20  \n",
       "chr10_74  8.489850e-09    Unnamed  \n",
       "chr11_2   1.648162e-12      LSP1*  \n",
       "chr11_32  1.431858e-09    Unnamed  "
      ]
     },
     "execution_count": 9,
     "metadata": {},
     "output_type": "execute_result"
    }
   ],
   "source": [
    "_best_association_per_region.head(5)"
   ]
  },
  {
   "cell_type": "code",
   "execution_count": 10,
   "id": "6419252c",
   "metadata": {},
   "outputs": [],
   "source": [
    "N_STEPS = 100\n",
    "STEP = 1 / N_STEPS\n",
    "quantiles = np.arange(N_STEPS+1)/N_STEPS\n",
    "\n",
    "quantile_ranges = [(quantiles[i], quantiles[i+1]) for i, q in enumerate(quantiles[:-1])]"
   ]
  },
  {
   "cell_type": "code",
   "execution_count": 11,
   "id": "bdea19ca",
   "metadata": {},
   "outputs": [],
   "source": [
    "from PIL import Image\n",
    "import imageio\n",
    "\n",
    "def merge_pngs(pngs, output_png, how):\n",
    "    # https://www.tutorialspoint.com/python_pillow/Python_pillow_merging_images.htm\n",
    "    \n",
    "    # Read images    \n",
    "    images = [Image.open(png) for png in pngs]    \n",
    "    \n",
    "    x_sizes = [image.size[0] for image in images]\n",
    "    y_sizes = [image.size[1] for image in images]\n",
    "    \n",
    "    if how == \"vertically\":      \n",
    "      y_size = sum(y_sizes)  \n",
    "      x_size = images[0].size[0]      \n",
    "      y_sizes.insert(0, 0)      \n",
    "      y_positions = np.cumsum(y_sizes[:-1])    \n",
    "      positions = [(0, y_position) for y_position in y_positions]\n",
    "    \n",
    "    elif how == \"horizontally\":\n",
    "      x_size = sum(x_sizes)      \n",
    "      y_size = images[0].size[1]      \n",
    "      x_sizes.insert(0, 0)      \n",
    "      x_positions = np.cumsum(x_sizes[:-1])    \n",
    "      positions = [(x_position, 0) for x_position in x_positions]\n",
    "    \n",
    "    \n",
    "    new_image = Image.new(\n",
    "        mode='RGB',\n",
    "        size=(x_size, y_size),\n",
    "        color=(250, 250, 250)\n",
    "    )\n",
    "    \n",
    "    for i, image in enumerate(images):        \n",
    "        new_image.paste(image, positions[i])\n",
    "        \n",
    "    new_image.save(output_png, \"PNG\")"
   ]
  },
  {
   "cell_type": "code",
   "execution_count": 12,
   "id": "6ccd87af-29c2-49b8-862a-760e9f51a59a",
   "metadata": {},
   "outputs": [],
   "source": [
    "import pickle as pkl"
   ]
  },
  {
   "cell_type": "code",
   "execution_count": 13,
   "id": "a7526014-5c6b-4226-af86-f43a344b25c0",
   "metadata": {},
   "outputs": [],
   "source": [
    "#aligned_meshes = { id:  transform_mesh(mesh,  **procrustes_transforms[id]) for id, mesh in meshes.items() }\n",
    "#rmsd = {id: np.array([np.sqrt((p**2).sum()) for p in mesh]).mean() for id, mesh in aligned_meshes.items()}\n",
    "#pkl.dump(aligned_meshes, open(\"lved_aligned_meshes.pkl\", \"wb\"))\n",
    "#pkl.dump(rmsd, open(\"lved_rmsd.pkl\", \"wb\"))"
   ]
  },
  {
   "cell_type": "code",
   "execution_count": 14,
   "id": "ce91f794-e116-4927-b22d-8d1ad8ae160b",
   "metadata": {},
   "outputs": [],
   "source": [
    "aligned_meshes = pkl.load(open(\"lved_aligned_meshes.pkl\", \"rb\"))\n",
    "rmsd = pkl.load(open(\"lved_rmsd.pkl\", \"rb\"))"
   ]
  },
  {
   "cell_type": "code",
   "execution_count": 15,
   "id": "437b4a4e-70e3-4e27-820d-9c51de553623",
   "metadata": {},
   "outputs": [],
   "source": [
    "# \n",
    "# scaled_meshes = []\n",
    "# msd = []\n",
    "#             \n",
    "# for id in ids:\n",
    "#     \n",
    "#     mesh = transform_mesh(\n",
    "#         meshes[id], \n",
    "#         **procrustes_transforms[id]\n",
    "#     )\n",
    "#         \n",
    "#     # mean-squared deviation\n",
    "#     msd.append(np.array([np.sqrt((p**2).sum()) for p in mesh]).mean())\n",
    "#     scaled_meshes.append(mesh)\n",
    "#     \n",
    "# scaled_meshes = np.array(scaled_meshes)\n",
    "# msd = np.array(msd)"
   ]
  },
  {
   "cell_type": "code",
   "execution_count": 16,
   "id": "d08243d5-5ba6-442a-8d4d-0357fe1e7130",
   "metadata": {},
   "outputs": [],
   "source": [
    "from typing import Sequence, Dict\n",
    "\n",
    "def get_ids_in_range(z: pd.Series, q0: float, q1: float):\n",
    "    '''\n",
    "      z: pd.Series \n",
    "      q0, q1: quantile bounds (q0 < q1, between 0 and 1)    \n",
    "    '''\n",
    "        \n",
    "    z_bounds = z.quantile([q0, q1])    \n",
    "    ids_in_range = z[(z_bounds[q0] < z) & (z < z_bounds[q1])].index\n",
    "    \n",
    "    # coerce id's to string and convert to list\n",
    "    ids_in_range = [str(id) for id in ids_in_range]\n",
    "    \n",
    "    return ids_in_range\n",
    "\n",
    "\n",
    "def avg_shape_in_q_range(\n",
    "        meshes: Dict[str, np.array], \n",
    "        rmsd: Dict[str, float],\n",
    "        quantile_range: tuple[float], \n",
    "        run_id: str, z: str, exp_id: str =\"1\"\n",
    "    ):\n",
    "    \n",
    "    '''\n",
    "    meshes: np.array with dimension N x 3.\n",
    "    quantile_range: a tuple with two quantiles (floats between 0 and 1 representing).\n",
    "    z: name of the z variable (*not* the values) \n",
    "    '''\n",
    "    \n",
    "    z_filepath = f\"{MLRUNS_DIR}/{exp_id}/{run_id}/artifacts/output/latent_vector.csv\"\n",
    "    z = pd.read_csv(z_filepath).set_index(\"ID\")[z]\n",
    "    \n",
    "    ids_in_range = get_ids_in_range(z, q0, q1)\n",
    "    \n",
    "    avg_mesh = np.array([meshes[id] / rmsd[id] for id in ids_in_range]).mean(0)\n",
    "    rmsd_in_range = np.array([rmsd[id] for id in ids_in_range]).mean()\n",
    "    avg_mesh = avg_mesh * rmsd_in_range\n",
    "        \n",
    "    return avg_mesh \n",
    "\n",
    "\n",
    "def plot_mesh(mesh, faces, ofilename):#, camera=(300, 0.0, 0.0):\n",
    "    \n",
    "    pv.set_plot_theme(\"document\")\n",
    "    pl = pv.Plotter(off_screen=True, notebook=False)\n",
    "    \n",
    "    pl.camera.position = (300, 0.0, 0.0)\n",
    "    pl.camera.azimuth = 95\n",
    "        \n",
    "    mesh = pv.PolyData(mesh, faces)\n",
    "    \n",
    "    pl.add_mesh(\n",
    "        mesh, show_edges=False, point_size=1.5, color=color_palette[0], opacity=0.5\n",
    "    )\n",
    "    \n",
    "    pl.screenshot(ofilename);  \n"
   ]
  },
  {
   "cell_type": "code",
   "execution_count": 17,
   "id": "a0b16557-14d6-4510-bd25-3071e71ea314",
   "metadata": {},
   "outputs": [
    {
     "data": {
      "text/plain": [
       "array([[315.33873711,  67.55932002, 286.03773234],\n",
       "       [297.8330854 ,  59.7974544 , 202.14065344],\n",
       "       [320.81589542,  49.9876801 , 281.62826188],\n",
       "       ...,\n",
       "       [259.13623771,  62.71776302, 263.8711187 ],\n",
       "       [321.99926626,  67.93798576, 255.43474741],\n",
       "       [295.96140628,  55.19356009, 203.28433615]])"
      ]
     },
     "execution_count": 17,
     "metadata": {},
     "output_type": "execute_result"
    }
   ],
   "source": [
    "ids_in_range = list(meshes.keys())[0:100]\n",
    "avg_shape = np.array([meshes[id] / rmsd[id] for id in ids_in_range]).mean(0)\n",
    "rmsd_in_range = np.array([rmsd[id] for id in ids_in_range]).mean()\n",
    "avg_shape *= rmsd_in_range\n",
    "avg_shape"
   ]
  },
  {
   "cell_type": "code",
   "execution_count": 18,
   "id": "5c8ac039-3c86-4aa3-b8a2-4c57474e74c7",
   "metadata": {},
   "outputs": [],
   "source": [
    "exp_id = '1'\n",
    "\n",
    "regions = [\n",
    "   \"chr17_27\",\n",
    "   \"chr12_69\",\n",
    "   \"chr6_78\",\n",
    "   \"chr2_108\",\n",
    "   \"chr11_2\",\n",
    "   \"chr5_103\",\n",
    "   \"chr1_124\",\n",
    "   \"chr6_84\",\n",
    "   \"chr2_69\",\n",
    "   \"chr12_67\"\n",
    "]\n",
    "\n",
    "q_ranges = [(0.00, 0.01), (0.095, 0.105), (0.45, 0.55), (0.895, 0.905), (0.99, 1.0)]"
   ]
  },
  {
   "cell_type": "code",
   "execution_count": 19,
   "id": "67e06fb1-3edd-42ca-958e-48e7fabb37fd",
   "metadata": {},
   "outputs": [],
   "source": [
    "import warnings\n",
    "warnings.filterwarnings('ignore')"
   ]
  },
  {
   "cell_type": "code",
   "execution_count": 20,
   "id": "68bb7731-0d89-44b0-9ae7-5ca6abdb005b",
   "metadata": {},
   "outputs": [
    {
     "name": "stdout",
     "output_type": "stream",
     "text": [
      "0285f\n",
      "03e46\n",
      "049c2\n",
      "04a59\n",
      "06413\n",
      "06eef\n",
      "09565\n",
      "0ddcb\n",
      "10001\n",
      "10284\n",
      "136de\n",
      "17629\n",
      "1ceac\n",
      "1d8d4\n",
      "1f840\n",
      "21f83\n",
      "23689\n",
      "24b8a\n",
      "25cd6\n",
      "26568\n",
      "28a33\n",
      "28cdc\n",
      "293f5\n",
      "2965f\n",
      "2c83b\n",
      "2dce0\n",
      "3240f\n",
      "32c57\n",
      "346c4\n",
      "36693\n",
      "368a7\n",
      "37a9f\n",
      "37afc\n",
      "37b6f\n",
      "37b74\n",
      "383a4\n",
      "394bf\n",
      "3bb27\n",
      "3ccf1\n",
      "3e055\n",
      "3ef97\n",
      "40631\n",
      "416a8\n",
      "41923\n",
      "44e53\n",
      "45e3c\n",
      "46cd6\n",
      "470ab\n",
      "4a637\n",
      "4b73b\n",
      "4b765\n",
      "4db72\n",
      "4eedb\n",
      "4fb49\n",
      "50df4\n",
      "586b4\n",
      "58e79\n",
      "5ade7\n",
      "5b82e\n",
      "5bf27\n",
      "5de82\n",
      "5e2d1\n",
      "5e718\n",
      "61835\n",
      "6277c\n",
      "64bde\n",
      "65535\n",
      "67d13\n",
      "6b492\n",
      "6befa\n",
      "6c5c1\n",
      "6cc87\n",
      "6e096\n",
      "6ffc5\n",
      "71631\n",
      "71ab6\n",
      "72116\n",
      "73826\n",
      "74b6e\n",
      "77bed\n",
      "77fd5\n",
      "7842a\n",
      "7963e\n",
      "8025c\n",
      "812a8\n",
      "81c75\n",
      "83e5d\n",
      "84a1c\n",
      "854f2\n",
      "8614c\n",
      "882dc\n",
      "8b630\n",
      "8d082\n",
      "8d910\n",
      "8ea1d\n",
      "8f24c\n",
      "92337\n",
      "94afe\n",
      "956de\n",
      "9790e\n",
      "97ea3\n",
      "98525\n",
      "9872e\n",
      "9976e\n",
      "9a4b9\n",
      "9a56d\n",
      "9a924\n",
      "9c46c\n",
      "9dd2c\n",
      "9eaff\n",
      "9ee36\n",
      "a156b\n",
      "a5b2d\n",
      "a6bde\n",
      "a7d32\n",
      "a8c4d\n",
      "aabda\n",
      "ade69\n",
      "aff30\n",
      "b0420\n",
      "b0ca2\n",
      "b1542\n",
      "b23e7\n",
      "b4fc6\n",
      "b526b\n",
      "b6a7e\n",
      "b6a9c\n",
      "b6f4c\n",
      "ba93d\n",
      "bae5e\n",
      "bc2d5\n",
      "c1f26\n",
      "c3b17\n",
      "c7f74\n",
      "cc438\n",
      "d02d6\n",
      "d2850\n",
      "d38cd\n",
      "d7d5e\n",
      "d9579\n",
      "da264\n",
      "da341\n",
      "da5d1\n",
      "db8b7\n",
      "e1928\n",
      "e4283\n",
      "e4c27\n",
      "e599d\n",
      "e6490\n",
      "e670f\n",
      "e75e7\n",
      "e8a19\n",
      "e93c4\n",
      "ee30f\n",
      "f0978\n",
      "f29b0\n",
      "f8a58\n",
      "f9c17\n",
      "fdc46\n",
      "ff53b\n",
      "ff7c5\n"
     ]
    }
   ],
   "source": [
    "VERBOSE = False\n",
    "\n",
    "for run_id in sorted(os.listdir(f\"{CARDIAC_COMA_REPO}/mlruns/1\")):\n",
    "    \n",
    "    try:\n",
    "        z_filepath = f\"{MLRUNS_DIR}/{exp_id}/{run_id}/artifacts/output/latent_vector.csv\"\n",
    "        zs = pd.read_csv(z_filepath).set_index(\"ID\").columns\n",
    "    except:\n",
    "        continue\n",
    "        \n",
    "    for z in zs:\n",
    "        \n",
    "        # print(f\"{run_id[:5]}/{z}\")\n",
    "        \n",
    "        #assoc = _best_association_per_region.loc[region]\n",
    "        #run_id, z = assoc.run, assoc.pheno[-4:]\n",
    "    \n",
    "        z_effect_figs_dir = f\"{CARDIAC_COMA_REPO}/mlruns/1/{run_id}/artifacts/z_effect_on_shape\"\n",
    "        os.makedirs(z_effect_figs_dir, exist_ok=True)\n",
    "        \n",
    "        filenames = { \n",
    "            (q0, q1): f\"{z_effect_figs_dir}/{z}_{q0}-{q1}.png\" for q0, q1 in q_ranges \n",
    "        }\n",
    "    \n",
    "        for (q0, q1), filename in filenames.items():\n",
    "              \n",
    "            if os.path.exists(filename):\n",
    "                if VERBOSE: print(f\"File {filename} already exists.\")\n",
    "                continue                        \n",
    "            \n",
    "            avg_mesh = avg_shape_in_q_range(                \n",
    "                meshes=aligned_meshes,\n",
    "                rmsd=rmsd,\n",
    "                quantile_range=(q0, q1),             \n",
    "                exp_id=exp_id,\n",
    "                run_id=run_id,\n",
    "                z=z,            \n",
    "            )  \n",
    "            \n",
    "            if np.isnan(avg_mesh).all(): break\n",
    "            \n",
    "            # print(f\"{run_id[:5]}/{z}\")\n",
    "            \n",
    "            ofilename = filenames[(q0, q1)]\n",
    "            plot_mesh(avg_mesh, faces, ofilename)                                    \n",
    "           \n",
    "        try:            \n",
    "            filename = f\"{z_effect_figs_dir}/{z}.png\"\n",
    "            if not os.path.exists(filename):\n",
    "                merge_pngs(filenames.values(), output_png=filename, how=\"horizontally\")\n",
    "        except:\n",
    "            pass\n",
    "        \n",
    "    print(f\"{run_id[:5]}\")"
   ]
  },
  {
   "cell_type": "code",
   "execution_count": 21,
   "id": "70a3d3c0-4a9c-4fcb-9176-2778181ecae6",
   "metadata": {},
   "outputs": [
    {
     "name": "stderr",
     "output_type": "stream",
     "text": [
      "  0%|                                                                                                                                            | 0/10 [00:00<?, ?it/s]"
     ]
    },
    {
     "name": "stdout",
     "output_type": "stream",
     "text": [
      "results/figs/chr17_27_0.0-0.01.png\n",
      "File results/figs/chr17_27_0.0-0.01.png already exists.\n",
      "results/figs/chr17_27_0.095-0.105.png\n",
      "File results/figs/chr17_27_0.095-0.105.png already exists.\n",
      "results/figs/chr17_27_0.45-0.55.png\n",
      "File results/figs/chr17_27_0.45-0.55.png already exists.\n",
      "results/figs/chr17_27_0.895-0.905.png\n",
      "File results/figs/chr17_27_0.895-0.905.png already exists.\n",
      "results/figs/chr17_27_0.99-1.0.png\n",
      "File results/figs/chr17_27_0.99-1.0.png already exists.\n"
     ]
    },
    {
     "name": "stderr",
     "output_type": "stream",
     "text": [
      " 10%|█████████████▏                                                                                                                      | 1/10 [00:00<00:02,  3.59it/s]"
     ]
    },
    {
     "name": "stdout",
     "output_type": "stream",
     "text": [
      "results/figs/chr12_69_0.0-0.01.png\n",
      "File results/figs/chr12_69_0.0-0.01.png already exists.\n",
      "results/figs/chr12_69_0.095-0.105.png\n",
      "File results/figs/chr12_69_0.095-0.105.png already exists.\n",
      "results/figs/chr12_69_0.45-0.55.png\n",
      "File results/figs/chr12_69_0.45-0.55.png already exists.\n",
      "results/figs/chr12_69_0.895-0.905.png\n",
      "File results/figs/chr12_69_0.895-0.905.png already exists.\n",
      "results/figs/chr12_69_0.99-1.0.png\n",
      "File results/figs/chr12_69_0.99-1.0.png already exists.\n"
     ]
    },
    {
     "name": "stderr",
     "output_type": "stream",
     "text": [
      " 20%|██████████████████████████▍                                                                                                         | 2/10 [00:00<00:02,  3.75it/s]"
     ]
    },
    {
     "name": "stdout",
     "output_type": "stream",
     "text": [
      "results/figs/chr6_78_0.0-0.01.png\n",
      "File results/figs/chr6_78_0.0-0.01.png already exists.\n",
      "results/figs/chr6_78_0.095-0.105.png\n",
      "File results/figs/chr6_78_0.095-0.105.png already exists.\n",
      "results/figs/chr6_78_0.45-0.55.png\n",
      "results/figs/chr6_78_0.895-0.905.png\n",
      "results/figs/chr6_78_0.99-1.0.png\n"
     ]
    },
    {
     "name": "stderr",
     "output_type": "stream",
     "text": [
      " 30%|███████████████████████████████████████▌                                                                                            | 3/10 [00:56<02:58, 25.57s/it]"
     ]
    },
    {
     "name": "stdout",
     "output_type": "stream",
     "text": [
      "results/figs/chr2_108_0.0-0.01.png\n",
      "File results/figs/chr2_108_0.0-0.01.png already exists.\n",
      "results/figs/chr2_108_0.095-0.105.png\n",
      "File results/figs/chr2_108_0.095-0.105.png already exists.\n",
      "results/figs/chr2_108_0.45-0.55.png\n",
      "File results/figs/chr2_108_0.45-0.55.png already exists.\n",
      "results/figs/chr2_108_0.895-0.905.png\n",
      "File results/figs/chr2_108_0.895-0.905.png already exists.\n",
      "results/figs/chr2_108_0.99-1.0.png\n",
      "File results/figs/chr2_108_0.99-1.0.png already exists.\n"
     ]
    },
    {
     "name": "stderr",
     "output_type": "stream",
     "text": [
      " 40%|████████████████████████████████████████████████████▊                                                                               | 4/10 [00:56<01:33, 15.59s/it]"
     ]
    },
    {
     "name": "stdout",
     "output_type": "stream",
     "text": [
      "results/figs/chr11_2_0.0-0.01.png\n",
      "File results/figs/chr11_2_0.0-0.01.png already exists.\n",
      "results/figs/chr11_2_0.095-0.105.png\n",
      "File results/figs/chr11_2_0.095-0.105.png already exists.\n",
      "results/figs/chr11_2_0.45-0.55.png\n",
      "File results/figs/chr11_2_0.45-0.55.png already exists.\n",
      "results/figs/chr11_2_0.895-0.905.png\n",
      "File results/figs/chr11_2_0.895-0.905.png already exists.\n",
      "results/figs/chr11_2_0.99-1.0.png\n",
      "File results/figs/chr11_2_0.99-1.0.png already exists.\n"
     ]
    },
    {
     "name": "stderr",
     "output_type": "stream",
     "text": [
      " 50%|██████████████████████████████████████████████████████████████████                                                                  | 5/10 [00:56<00:50, 10.06s/it]"
     ]
    },
    {
     "name": "stdout",
     "output_type": "stream",
     "text": [
      "results/figs/chr5_103_0.0-0.01.png\n",
      "File results/figs/chr5_103_0.0-0.01.png already exists.\n",
      "results/figs/chr5_103_0.095-0.105.png\n",
      "File results/figs/chr5_103_0.095-0.105.png already exists.\n",
      "results/figs/chr5_103_0.45-0.55.png\n",
      "File results/figs/chr5_103_0.45-0.55.png already exists.\n",
      "results/figs/chr5_103_0.895-0.905.png\n",
      "File results/figs/chr5_103_0.895-0.905.png already exists.\n",
      "results/figs/chr5_103_0.99-1.0.png\n",
      "File results/figs/chr5_103_0.99-1.0.png already exists.\n"
     ]
    },
    {
     "name": "stderr",
     "output_type": "stream",
     "text": [
      " 60%|███████████████████████████████████████████████████████████████████████████████▏                                                    | 6/10 [00:57<00:26,  6.73s/it]"
     ]
    },
    {
     "name": "stdout",
     "output_type": "stream",
     "text": [
      "results/figs/chr1_124_0.0-0.01.png\n",
      "File results/figs/chr1_124_0.0-0.01.png already exists.\n",
      "results/figs/chr1_124_0.095-0.105.png\n",
      "File results/figs/chr1_124_0.095-0.105.png already exists.\n",
      "results/figs/chr1_124_0.45-0.55.png\n",
      "File results/figs/chr1_124_0.45-0.55.png already exists.\n",
      "results/figs/chr1_124_0.895-0.905.png\n",
      "File results/figs/chr1_124_0.895-0.905.png already exists.\n",
      "results/figs/chr1_124_0.99-1.0.png\n",
      "File results/figs/chr1_124_0.99-1.0.png already exists.\n"
     ]
    },
    {
     "name": "stderr",
     "output_type": "stream",
     "text": [
      " 70%|████████████████████████████████████████████████████████████████████████████████████████████▍                                       | 7/10 [00:57<00:13,  4.61s/it]"
     ]
    },
    {
     "name": "stdout",
     "output_type": "stream",
     "text": [
      "results/figs/chr6_84_0.0-0.01.png\n",
      "File results/figs/chr6_84_0.0-0.01.png already exists.\n",
      "results/figs/chr6_84_0.095-0.105.png\n",
      "File results/figs/chr6_84_0.095-0.105.png already exists.\n",
      "results/figs/chr6_84_0.45-0.55.png\n",
      "File results/figs/chr6_84_0.45-0.55.png already exists.\n",
      "results/figs/chr6_84_0.895-0.905.png\n",
      "File results/figs/chr6_84_0.895-0.905.png already exists.\n",
      "results/figs/chr6_84_0.99-1.0.png\n",
      "File results/figs/chr6_84_0.99-1.0.png already exists.\n"
     ]
    },
    {
     "name": "stderr",
     "output_type": "stream",
     "text": [
      " 80%|█████████████████████████████████████████████████████████████████████████████████████████████████████████▌                          | 8/10 [00:57<00:06,  3.22s/it]"
     ]
    },
    {
     "name": "stdout",
     "output_type": "stream",
     "text": [
      "results/figs/chr2_69_0.0-0.01.png\n",
      "File results/figs/chr2_69_0.0-0.01.png already exists.\n",
      "results/figs/chr2_69_0.095-0.105.png\n",
      "File results/figs/chr2_69_0.095-0.105.png already exists.\n",
      "results/figs/chr2_69_0.45-0.55.png\n",
      "File results/figs/chr2_69_0.45-0.55.png already exists.\n",
      "results/figs/chr2_69_0.895-0.905.png\n",
      "File results/figs/chr2_69_0.895-0.905.png already exists.\n",
      "results/figs/chr2_69_0.99-1.0.png\n",
      "File results/figs/chr2_69_0.99-1.0.png already exists.\n"
     ]
    },
    {
     "name": "stderr",
     "output_type": "stream",
     "text": [
      " 90%|██████████████████████████████████████████████████████████████████████████████████████████████████████████████████████▊             | 9/10 [00:57<00:02,  2.30s/it]"
     ]
    },
    {
     "name": "stdout",
     "output_type": "stream",
     "text": [
      "results/figs/chr12_67_0.0-0.01.png\n",
      "File results/figs/chr12_67_0.0-0.01.png already exists.\n",
      "results/figs/chr12_67_0.095-0.105.png\n",
      "File results/figs/chr12_67_0.095-0.105.png already exists.\n",
      "results/figs/chr12_67_0.45-0.55.png\n",
      "File results/figs/chr12_67_0.45-0.55.png already exists.\n",
      "results/figs/chr12_67_0.895-0.905.png\n",
      "File results/figs/chr12_67_0.895-0.905.png already exists.\n",
      "results/figs/chr12_67_0.99-1.0.png\n",
      "File results/figs/chr12_67_0.99-1.0.png already exists.\n"
     ]
    },
    {
     "name": "stderr",
     "output_type": "stream",
     "text": [
      "100%|███████████████████████████████████████████████████████████████████████████████████████████████████████████████████████████████████| 10/10 [00:58<00:00,  5.81s/it]\n"
     ]
    }
   ],
   "source": [
    "for region in tqdm(regions):\n",
    "  \n",
    "  assoc = _best_association_per_region.loc[region]\n",
    "  run_id, z = assoc.run, assoc.pheno[-4:]\n",
    "\n",
    "  df = pd.read_csv(f\"{MLRUNS_DIR}/{exp_id}/{run_id}/artifacts/output/latent_vector.csv\").set_index(\"ID\")\n",
    "\n",
    "  filenames = []\n",
    "\n",
    "  for q0, q1 in q_ranges:  \n",
    "    \n",
    "    filename = f\"results/figs/{region}_{q0}-{q1}.png\"\n",
    "    print(filename)\n",
    "    filenames.append(filename)  \n",
    "    \n",
    "    if os.path.exists(filename):\n",
    "        print(f\"File {filename} already exists.\")\n",
    "        continue\n",
    "    \n",
    "    z_bounds = df.quantile([q0, q1])[z]                \n",
    "        \n",
    "    ids = list(df[ \n",
    "        (z_bounds[q0] < df[z]) & (df[z] < z_bounds[q1])\n",
    "    ][z].index) \n",
    "      \n",
    "    scaled_meshes = []\n",
    "    msd = []\n",
    "    \n",
    "    for id in ids:\n",
    "        mesh = transform_mesh(\n",
    "            meshes[str(id)], \n",
    "            **procrustes_transforms[str(id)]\n",
    "        )\n",
    "        \n",
    "        # mean-squared deviation\n",
    "        msd.append(np.array([np.sqrt((p**2).sum()) for p in mesh]).mean())\n",
    "        scaled_meshes.append(mesh)\n",
    "    \n",
    "    scaled_meshes = np.array(scaled_meshes)\n",
    "    msd = np.array(msd)\n",
    "            \n",
    "    avg_mesh = np.array([scaled_meshes[i] / msd[i] for i, _ in enumerate(scaled_meshes)]).mean(0)\n",
    "    avg_mesh = avg_mesh * msd.mean()\n",
    "                \n",
    "    pv.set_plot_theme(\"document\")\n",
    "    pl = pv.Plotter(off_screen=True, notebook=False)\n",
    "    \n",
    "    pl.camera.position = (300, 0.0, 0.0)\n",
    "    pl.camera.azimuth = 95\n",
    "    \n",
    "    mesh = pv.PolyData(avg_mesh, faces)\n",
    "    pl.add_mesh(mesh, show_edges=False, point_size=1.5, color=color_palette[0], opacity=0.5)\n",
    "    \n",
    "    pl.screenshot(filename);\n",
    "    \n",
    "  \n",
    "  merge_pngs(filenames, output_png=f\"{region}.png\", how=\"horizontally\")"
   ]
  },
  {
   "cell_type": "code",
   "execution_count": 22,
   "id": "8d4edff2",
   "metadata": {},
   "outputs": [
    {
     "name": "stdout",
     "output_type": "stream",
     "text": [
      "\n"
     ]
    },
    {
     "data": {
      "application/vnd.jupyter.widget-view+json": {
       "model_id": "c21a48f5ce494bd191d72c7c96755267",
       "version_major": 2,
       "version_minor": 0
      },
      "text/plain": [
       "ViewInteractiveWidget(height=768, layout=Layout(height='auto', width='100%'), width=1024)"
      ]
     },
     "metadata": {},
     "output_type": "display_data"
    }
   ],
   "source": [
    "exp_id = '1'\n",
    "# region = \"chr17_27\"\n",
    "region = \"chr12_69\"\n",
    "assoc = _best_association_per_region.loc[region]\n",
    "run_id, z = assoc.run, assoc.pheno[-4:]\n",
    "filename = \"latent_vector.csv\"\n",
    "df = pd.read_csv(f\"{MLRUNS_DIR}/{exp_id}/{run_id}/artifacts/output/{filename}\")\n",
    "df = df.set_index(\"ID\")\n",
    "\n",
    "for q0, q1 in quantile_ranges:\n",
    "  \n",
    "    z_bounds = df.quantile([q0, q1])[z]                \n",
    "    \n",
    "    ids = list(df[ \n",
    "        (z_bounds[q0] < df[z]) & (df[z] < z_bounds[q1])\n",
    "    ][z].index) \n",
    "    \n",
    "    scaled_meshes = []\n",
    "    msd = []\n",
    "    \n",
    "    for id in ids:\n",
    "        mesh = transform_mesh(\n",
    "            meshes[str(id)], \n",
    "            **procrustes_transforms[str(id)]\n",
    "        )\n",
    "        \n",
    "        # mean-squared deviation\n",
    "        msd.append(np.array([np.sqrt((p**2).sum()) for p in mesh]).mean())\n",
    "        scaled_meshes.append(mesh)\n",
    "    \n",
    "    scaled_meshes = np.array(scaled_meshes)\n",
    "    \n",
    "    msd = np.array(msd)            \n",
    "    avg_mesh = np.array([scaled_meshes[i] / msd[i] for i, _ in enumerate(scaled_meshes)]).mean(0)\n",
    "    avg_mesh = avg_mesh * msd.mean()\n",
    "    \n",
    "    pl = pv.Plotter(notebook=True, off_screen=False, polygon_smoothing=False)\n",
    "    mesh = pv.PolyData(avg_mesh, faces)\n",
    "    pl.add_mesh(mesh, show_edges=False, point_size=1.5, color=color_palette[0], opacity=0.5)\n",
    "    \n",
    "    clear_output()\n",
    "    print()\n",
    "    pl.show(interactive=True, interactive_update=True)"
   ]
  },
  {
   "cell_type": "code",
   "execution_count": 23,
   "id": "fb17bc37",
   "metadata": {},
   "outputs": [
    {
     "data": {
      "application/vnd.jupyter.widget-view+json": {
       "model_id": "a94d4b6dcf31463db69de30bdc499379",
       "version_major": 2,
       "version_minor": 0
      },
      "text/plain": [
       "Select(description='Locus: \\n', options=('chr17_27', 'chr12_69', 'chr6_78', 'chr2_108', 'chr11_2', 'chr5_103',…"
      ]
     },
     "metadata": {},
     "output_type": "display_data"
    },
    {
     "data": {
      "application/vnd.jupyter.widget-view+json": {
       "model_id": "e7ffa63b35b449de9d3d1bdb85719f8c",
       "version_major": 2,
       "version_minor": 0
      },
      "text/plain": [
       "FloatSlider(value=0.0, max=0.99, step=0.01)"
      ]
     },
     "metadata": {},
     "output_type": "display_data"
    },
    {
     "data": {
      "application/vnd.jupyter.widget-view+json": {
       "model_id": "972b94dbf74d4dd7a84ecb58d20e13fb",
       "version_major": 2,
       "version_minor": 0
      },
      "text/plain": [
       "VBox(children=(Button(description='Plot mesh', style=ButtonStyle()), Output()))"
      ]
     },
     "metadata": {},
     "output_type": "display_data"
    }
   ],
   "source": [
    "exp_id = '1'\n",
    "STEP = 0.01\n",
    "\n",
    "region_w = widgets.Select(options=regions, description=\"Locus: \\n\",)\n",
    "display(region_w)\n",
    "region = region_w.value\n",
    "\n",
    "# _best_association_per_region = best_association_per_region.set_index(\"region\")\n",
    "assoc = _best_association_per_region.loc[region]\n",
    "run_id, z = assoc.run, assoc.pheno[-4:]\n",
    "\n",
    "quantile_inf_w=widgets.FloatSlider(min=0.00, max=0.99, step=STEP)\n",
    "display(quantile_inf_w)    \n",
    "\n",
    "button = widgets.Button(description=\"Plot mesh\")\n",
    "out = widgets.Output()\n",
    "\n",
    "def plot_mesh(b):\n",
    "    \n",
    "    filename = \"latent_vector.csv\"\n",
    "    df = pd.read_csv(f\"{MLRUNS_DIR}/{exp_id}/{run_id}/artifacts/output/{filename}\")\n",
    "    df = df.set_index(\"ID\")\n",
    "    \n",
    "    # z_w = widgets.Select(options=[f\"z{str(i).zfill(3)}\" for i in range(df.shape[1])])    \n",
    "    \n",
    "    with out:\n",
    "\n",
    "        quantile_range = quantile_inf_w.value\n",
    "        z_bounds = df.quantile([quantile_range, STEP+quantile_range])[z]                \n",
    "        \n",
    "        ids = list(df[ \n",
    "            (z_bounds[quantile_range] < df[z]) & (df[z] < z_bounds[quantile_range+STEP])\n",
    "        ][z].index)    \n",
    "                \n",
    "        # COMPUTE AVERAGE MESH                        \n",
    "        avg_mesh = np.array([\n",
    "            transform_mesh(\n",
    "                meshes[str(id)], \n",
    "                **procrustes_transforms[str(id)]\n",
    "            ) for id in ids\n",
    "        ]).mean(axis=0)\n",
    "\n",
    "        clear_output()        \n",
    "        \n",
    "        pl = pv.Plotter(notebook=True, off_screen=False, polygon_smoothing=False)\n",
    "        mesh = pv.PolyData(avg_mesh, faces)\n",
    "        pl.add_mesh(mesh, show_edges=False, point_size=1.5, color=color_palette[0], opacity=0.5)\n",
    "        pl.show(interactive=True, interactive_update=True)\n",
    "        \n",
    "button.on_click(plot_mesh)\n",
    "# displaying button and its output together\n",
    "widgets.VBox([button,out])    "
   ]
  },
  {
   "cell_type": "markdown",
   "id": "184eca27",
   "metadata": {},
   "source": [
    "___"
   ]
  },
  {
   "cell_type": "markdown",
   "id": "f87f85eb",
   "metadata": {},
   "source": [
    "# Select `run_id` / `z` variable"
   ]
  },
  {
   "cell_type": "code",
   "execution_count": 24,
   "id": "1be5bd8f",
   "metadata": {},
   "outputs": [
    {
     "data": {
      "application/vnd.jupyter.widget-view+json": {
       "model_id": "d0ae1d76dd7449379e24d73988b0e71f",
       "version_major": 2,
       "version_minor": 0
      },
      "text/plain": [
       "Select(options=('0285fa2356fd454e88e3c30d6b63f163', '064136c02b284aeeb946de907b5ed100', '09565efcb04642ca8d6bb…"
      ]
     },
     "metadata": {},
     "output_type": "display_data"
    },
    {
     "data": {
      "application/vnd.jupyter.widget-view+json": {
       "model_id": "9affe93121a247e692af18ca62c86071",
       "version_major": 2,
       "version_minor": 0
      },
      "text/plain": [
       "SelectionSlider(options=('z000', 'z001', 'z002', 'z003', 'z004', 'z005', 'z006', 'z007'), value='z000')"
      ]
     },
     "metadata": {},
     "output_type": "display_data"
    },
    {
     "data": {
      "application/vnd.jupyter.widget-view+json": {
       "model_id": "694085dd65814b16ad0389d39c042498",
       "version_major": 2,
       "version_minor": 0
      },
      "text/plain": [
       "FloatSlider(value=0.0, max=0.99, step=0.01)"
      ]
     },
     "metadata": {},
     "output_type": "display_data"
    },
    {
     "data": {
      "application/vnd.jupyter.widget-view+json": {
       "model_id": "17c5aa15baf8441d9839463fa91d5c88",
       "version_major": 2,
       "version_minor": 0
      },
      "text/plain": [
       "VBox(children=(Button(description='Plot mesh', style=ButtonStyle()), Output()))"
      ]
     },
     "metadata": {},
     "output_type": "display_data"
    }
   ],
   "source": [
    "from PIL import Image\n",
    "\n",
    "exp_id = '1'\n",
    "STEP=0.01\n",
    "run_id_w = widgets.Select(options=sorted(run_ids))\n",
    "display(run_id_w)\n",
    "\n",
    "filename = \"latent_vector.csv\"\n",
    "df = pd.read_csv(f\"{MLRUNS_DIR}/{exp_id}/{run_id}/artifacts/output/{filename}\")\n",
    "df = df.set_index(\"ID\")\n",
    "\n",
    "z_w = widgets.SelectionSlider(options=[f\"z{str(i).zfill(3)}\" for i in range(df.shape[1])])\n",
    "display(z_w)\n",
    "\n",
    "quantile_range_w=widgets.FloatSlider(min=0, max=0.99, step=STEP)\n",
    "display(quantile_range_w)\n",
    "\n",
    "button = widgets.Button(description=\"Plot mesh\")\n",
    "\n",
    "out = widgets.Output()\n",
    "\n",
    "\n",
    "def plot_mesh(b):\n",
    "    \n",
    "    with out:\n",
    "\n",
    "        z = z_w.value\n",
    "        run_id = run_id_w.value\n",
    "        quantile_range = quantile_range_w.value\n",
    "        z_bounds = df.quantile([quantile_range_w.value, quantile_range_w.value+STEP])[z]                \n",
    "        \n",
    "        ids = list(df[ \n",
    "            (z_bounds[quantile_range_w.value] < df[z]) & (df[z] < z_bounds[quantile_range_w.value+STEP])\n",
    "        ][z].index) \n",
    "        \n",
    "        print(len(ids))\n",
    "                \n",
    "        clear_output()      \n",
    "        print(z, run_id)\n",
    "        manhattan_file = f\"{CARDIAC_COMA_REPO}/mlruns/1/{run_id}/artifacts/GWAS_adj_10PCs/figures/GWAS__{z}__1_{run_id}__manhattan.png\"\n",
    "        qq_file = f\"{CARDIAC_COMA_REPO}/mlruns/1/{run_id}/artifacts/GWAS_adj_10PCs/figures/GWAS__{z}__1_{run_id}__QQ-plot.png\"\n",
    "        \n",
    "        # COMPUTE AVERAGE MESH                        \n",
    "        avg_mesh = np.array([\n",
    "            transform_mesh(\n",
    "                meshes[str(id)], \n",
    "                **procrustes_transforms[str(id)]\n",
    "            ) for id in ids\n",
    "        ]).mean(axis=0)\n",
    "\n",
    "                      \n",
    "        pl = pv.Plotter(notebook=True, off_screen=False, polygon_smoothing=False)\n",
    "        mesh = pv.PolyData(avg_mesh, faces)\n",
    "        pl.add_mesh(mesh, show_edges=False, point_size=1.5, color=color_palette[0], opacity=0.5)\n",
    "        pv.camera\n",
    "        pl.show(interactive=True, interactive_update=True)\n",
    "        \n",
    "        display(Image.open(manhattan_file))\n",
    "        # display(Image.open(qq_file))\n",
    "        \n",
    "button.on_click(plot_mesh)\n",
    "# displaying button and its output together\n",
    "widgets.VBox([button,out])        "
   ]
  },
  {
   "cell_type": "code",
   "execution_count": 25,
   "id": "3f0bfd4d",
   "metadata": {},
   "outputs": [],
   "source": [
    "pl = pv.Plotter(notebook=True, off_screen=False, polygon_smoothing=False)"
   ]
  }
 ],
 "metadata": {
  "kernelspec": {
   "display_name": "Python 3 (ipykernel)",
   "language": "python",
   "name": "python3"
  },
  "language_info": {
   "codemirror_mode": {
    "name": "ipython",
    "version": 3
   },
   "file_extension": ".py",
   "mimetype": "text/x-python",
   "name": "python",
   "nbconvert_exporter": "python",
   "pygments_lexer": "ipython3",
   "version": "3.9.12"
  }
 },
 "nbformat": 4,
 "nbformat_minor": 5
}
