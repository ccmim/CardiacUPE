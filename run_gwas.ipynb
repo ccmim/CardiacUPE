{
 "cells": [
  {
   "cell_type": "markdown",
   "id": "7195ea06",
   "metadata": {},
   "source": [
    "# Preliminaries"
   ]
  },
  {
   "cell_type": "code",
   "execution_count": 1,
   "id": "e080e169",
   "metadata": {
    "ExecuteTime": {
     "end_time": "2022-09-27T19:29:59.652247Z",
     "start_time": "2022-09-27T19:29:15.031638Z"
    }
   },
   "outputs": [],
   "source": [
    "from pprint import pprint\n",
    "import os, sys, shlex\n",
    "# from IPython import embed\n",
    "from subprocess import call, check_output\n",
    "repo_rootdir = check_output(shlex.split(\"git rev-parse --show-toplevel\")).strip().decode('ascii')\n",
    "os.chdir(repo_rootdir)\n",
    "sys.path.append(os.getcwd())\n",
    "\n",
    "# Import modules\n",
    "import pandas as pd\n",
    "import yaml\n",
    "import re\n",
    "from pprint import pprint\n",
    "from string import Formatter\n",
    "from copy import deepcopy\n",
    "\n",
    "from GWAS_pipeline.src.auxiliary import unfold_config\n",
    "from GWAS_pipeline.src.run_gwas import GWAS_Run\n",
    "import warnings\n",
    "import time\n",
    "\n",
    "from easydict import EasyDict"
   ]
  },
  {
   "cell_type": "code",
   "execution_count": 2,
   "id": "ca1ccb55",
   "metadata": {
    "ExecuteTime": {
     "end_time": "2022-09-27T19:32:55.829807Z",
     "start_time": "2022-09-27T19:31:38.247192Z"
    }
   },
   "outputs": [],
   "source": [
    "sys.path.append(\"CardiacCOMA\")\n",
    "from CardiacCOMA.utils.mlflow_queries import \\\n",
    "    list_artifacts,\\\n",
    "    get_significant_loci,\\\n",
    "    get_metrics_cols, \\\n",
    "    get_params_cols, \\\n",
    "    get_runs_df, \\\n",
    "    get_good_runs,\\\n",
    "    summarize_loci_across_runs,\\\n",
    "    get_model_pretrained_weights"
   ]
  },
  {
   "cell_type": "code",
   "execution_count": null,
   "id": "83f372c3",
   "metadata": {
    "ExecuteTime": {
     "end_time": "2022-09-27T18:42:23.386926Z",
     "start_time": "2022-09-27T18:42:23.386867Z"
    }
   },
   "outputs": [],
   "source": [
    "sys.path.append(\"GWAS_pipeline\")\n",
    "from GWAS_pipeline.main_bgenie import \\\n",
    "    extract_formatter_tokens, \\\n",
    "    prepare_config, \\\n",
    "    adjust_for_covariates, \\\n",
    "    build_bgen_command, \\\n",
    "    postprocess_gwas_by_region"
   ]
  },
  {
   "cell_type": "code",
   "execution_count": null,
   "id": "9c86c325",
   "metadata": {},
   "outputs": [],
   "source": [
    "import mlflow\n",
    "from mlflow.tracking import MlflowClient\n",
    "\n",
    "TRACKING_URI = \"mlruns\"\n",
    "mlflow.set_tracking_uri(TRACKING_URI)\n",
    "client = MlflowClient()"
   ]
  },
  {
   "cell_type": "markdown",
   "id": "d3cb55c7",
   "metadata": {},
   "source": [
    "## Query runs"
   ]
  },
  {
   "cell_type": "code",
   "execution_count": 4,
   "id": "e07a66cb",
   "metadata": {},
   "outputs": [],
   "source": []
  },
  {
   "cell_type": "code",
   "execution_count": null,
   "id": "423c1eb1",
   "metadata": {},
   "outputs": [],
   "source": [
    "runs_df = get_good_runs(metric_thres=2)\n",
    "run_ids = runs_df.run_id.to_list()"
   ]
  },
  {
   "cell_type": "markdown",
   "id": "812dc1b0",
   "metadata": {},
   "source": [
    "## Build configuration"
   ]
  },
  {
   "cell_type": "code",
   "execution_count": 72,
   "id": "0bd3ffbd",
   "metadata": {},
   "outputs": [],
   "source": [
    "args = {\n",
    "    \"yaml_config_file\": \"GWAS_pipeline/config_files/ref_config.yaml\",\n",
    "    \"name_rules\": \"GWAS_pipeline/config_files/filename_rules/filename_rules.yaml\",\n",
    "    \"suffix\": \"{experiment_id}_{run_id}\",\n",
    "    \"quality_control\": \"quality_control/quality_control.yaml\",\n",
    "    \"experiment_id\": \"1\",\n",
    "    \"dry_run\": False,\n",
    "    \"gwas_software\": \"bgenie\",\n",
    "    \"phenotype_file\": None,\n",
    "    \"gwas_file\": None,\n",
    "    \"phenotypes\": None,\n",
    "    \"chromosomes\": None,    \n",
    "    \"bgen_sample_file\": None,        \n",
    "    \"covariates\": None,\n",
    "    \"sample_white_lists\": None,\n",
    "    \"sample_black_lists\": None,    \n",
    "    \"run_id\": \"{run_id}\"\n",
    "}"
   ]
  },
  {
   "cell_type": "code",
   "execution_count": 73,
   "id": "83309fa5",
   "metadata": {},
   "outputs": [
    {
     "name": "stdout",
     "output_type": "stream",
     "text": [
      "GWAS_pipeline/config_files/ref_config.yaml\n",
      "quality_control/quality_control.yaml\n",
      "/nobackup/scrb/src/GWAS_pipeline/config_files\n",
      "genotype_patterns/genotype_patterns.yaml\n",
      "/nobackup/scrb/src/GWAS_pipeline/config_files\n"
     ]
    }
   ],
   "source": [
    "config_to_replace = EasyDict(args)\n",
    "config_to_replace.run_id = run_ids[0]\n",
    "config = prepare_config(config_to_replace)\n",
    "# pprint(config)"
   ]
  },
  {
   "cell_type": "code",
   "execution_count": 74,
   "id": "9fe1e694",
   "metadata": {},
   "outputs": [],
   "source": [
    "adj_command = adjust_for_covariates(config)\n",
    "gwas_command = build_bgen_command(config)    \n",
    "postproc_command = postprocess_gwas_by_region(config)\n",
    "\n",
    "commands = {\n",
    "  \"1\": adj_command,\n",
    "  \"2\": gwas_command,\n",
    "  \"3\": postproc_command\n",
    "}  \n",
    "\n",
    "\n",
    "messages = {\n",
    "  \"1\": \"\\nPreprocessing the phenotype file to perform GWAS on {}\\n.\".format(config[\"gwas_software\"]),\n",
    "  \"2\": \"\\nSubmitting GWAS jobs to the queue\\n\",\n",
    "  \"3\": \"\\nConcatenating per-region GWAS files, creating Manhattan plots, Q-Q plots and region-wise summaries\\n\"\n",
    "}   "
   ]
  },
  {
   "cell_type": "code",
   "execution_count": 75,
   "id": "52d99841",
   "metadata": {},
   "outputs": [],
   "source": [
    "config_to_replace.steps_to_run = [\"1\"] #,\"2\",\"3\"]\n",
    "config_to_replace.no_print_commands = False"
   ]
  },
  {
   "cell_type": "code",
   "execution_count": 76,
   "id": "c588b9f4",
   "metadata": {},
   "outputs": [],
   "source": [
    "args = config_to_replace"
   ]
  },
  {
   "cell_type": "code",
   "execution_count": 77,
   "id": "0aaa9775",
   "metadata": {},
   "outputs": [
    {
     "name": "stdout",
     "output_type": "stream",
     "text": [
      "Rscript src/preprocess_files_for_GWAS.R\n",
      "--phenotype_file ../CardiacCOMA/mlruns/1/b6a7eedfc0e84b8b9d1f099ed5f158c4/artifacts/output/latent_vector.csv\n",
      "--columns_to_exclude ID subset\n",
      "--covariates_config_yaml covariates/std_covariates_PC.yaml\n",
      "--output_file ../CardiacCOMA/mlruns/1/b6a7eedfc0e84b8b9d1f099ed5f158c4/artifacts/output/latent_vector_adj_10PCs.csv\n",
      "--gwas_software bgenie\n",
      "--bgen_sample_file data/transforms/genotypes_by_region/samples.txt\n",
      "\n",
      "\n",
      "Preprocessing the phenotype file to perform GWAS on bgenie\n",
      ".\n"
     ]
    },
    {
     "ename": "FileNotFoundError",
     "evalue": "[Errno 2] No such file or directory: 'Rscript': 'Rscript'",
     "output_type": "error",
     "traceback": [
      "\u001b[0;31m---------------------------------------------------------------------------\u001b[0m",
      "\u001b[0;31mFileNotFoundError\u001b[0m                         Traceback (most recent call last)",
      "\u001b[0;32m<ipython-input-77-5003b5b5c821>\u001b[0m in \u001b[0;36m<module>\u001b[0;34m\u001b[0m\n\u001b[1;32m      5\u001b[0m         \u001b[0;32mif\u001b[0m \u001b[0;32mnot\u001b[0m \u001b[0margs\u001b[0m\u001b[0;34m.\u001b[0m\u001b[0mdry_run\u001b[0m\u001b[0;34m:\u001b[0m\u001b[0;34m\u001b[0m\u001b[0;34m\u001b[0m\u001b[0m\n\u001b[1;32m      6\u001b[0m             \u001b[0mprint\u001b[0m\u001b[0;34m(\u001b[0m\u001b[0mmessages\u001b[0m\u001b[0;34m[\u001b[0m\u001b[0mk\u001b[0m\u001b[0;34m]\u001b[0m\u001b[0;34m)\u001b[0m\u001b[0;34m\u001b[0m\u001b[0;34m\u001b[0m\u001b[0m\n\u001b[0;32m----> 7\u001b[0;31m             \u001b[0mcall\u001b[0m\u001b[0;34m(\u001b[0m\u001b[0mshlex\u001b[0m\u001b[0;34m.\u001b[0m\u001b[0msplit\u001b[0m\u001b[0;34m(\u001b[0m\u001b[0mcommand\u001b[0m\u001b[0;34m)\u001b[0m\u001b[0;34m)\u001b[0m\u001b[0;34m\u001b[0m\u001b[0;34m\u001b[0m\u001b[0m\n\u001b[0m",
      "\u001b[0;32m/apps/developers/compilers/anaconda/2019.10/1/default/lib/python3.7/subprocess.py\u001b[0m in \u001b[0;36mcall\u001b[0;34m(timeout, *popenargs, **kwargs)\u001b[0m\n\u001b[1;32m    321\u001b[0m     \u001b[0mretcode\u001b[0m \u001b[0;34m=\u001b[0m \u001b[0mcall\u001b[0m\u001b[0;34m(\u001b[0m\u001b[0;34m[\u001b[0m\u001b[0;34m\"ls\"\u001b[0m\u001b[0;34m,\u001b[0m \u001b[0;34m\"-l\"\u001b[0m\u001b[0;34m]\u001b[0m\u001b[0;34m)\u001b[0m\u001b[0;34m\u001b[0m\u001b[0;34m\u001b[0m\u001b[0m\n\u001b[1;32m    322\u001b[0m     \"\"\"\n\u001b[0;32m--> 323\u001b[0;31m     \u001b[0;32mwith\u001b[0m \u001b[0mPopen\u001b[0m\u001b[0;34m(\u001b[0m\u001b[0;34m*\u001b[0m\u001b[0mpopenargs\u001b[0m\u001b[0;34m,\u001b[0m \u001b[0;34m**\u001b[0m\u001b[0mkwargs\u001b[0m\u001b[0;34m)\u001b[0m \u001b[0;32mas\u001b[0m \u001b[0mp\u001b[0m\u001b[0;34m:\u001b[0m\u001b[0;34m\u001b[0m\u001b[0;34m\u001b[0m\u001b[0m\n\u001b[0m\u001b[1;32m    324\u001b[0m         \u001b[0;32mtry\u001b[0m\u001b[0;34m:\u001b[0m\u001b[0;34m\u001b[0m\u001b[0;34m\u001b[0m\u001b[0m\n\u001b[1;32m    325\u001b[0m             \u001b[0;32mreturn\u001b[0m \u001b[0mp\u001b[0m\u001b[0;34m.\u001b[0m\u001b[0mwait\u001b[0m\u001b[0;34m(\u001b[0m\u001b[0mtimeout\u001b[0m\u001b[0;34m=\u001b[0m\u001b[0mtimeout\u001b[0m\u001b[0;34m)\u001b[0m\u001b[0;34m\u001b[0m\u001b[0;34m\u001b[0m\u001b[0m\n",
      "\u001b[0;32m/apps/developers/compilers/anaconda/2019.10/1/default/lib/python3.7/subprocess.py\u001b[0m in \u001b[0;36m__init__\u001b[0;34m(self, args, bufsize, executable, stdin, stdout, stderr, preexec_fn, close_fds, shell, cwd, env, universal_newlines, startupinfo, creationflags, restore_signals, start_new_session, pass_fds, encoding, errors, text)\u001b[0m\n\u001b[1;32m    773\u001b[0m                                 \u001b[0mc2pread\u001b[0m\u001b[0;34m,\u001b[0m \u001b[0mc2pwrite\u001b[0m\u001b[0;34m,\u001b[0m\u001b[0;34m\u001b[0m\u001b[0;34m\u001b[0m\u001b[0m\n\u001b[1;32m    774\u001b[0m                                 \u001b[0merrread\u001b[0m\u001b[0;34m,\u001b[0m \u001b[0merrwrite\u001b[0m\u001b[0;34m,\u001b[0m\u001b[0;34m\u001b[0m\u001b[0;34m\u001b[0m\u001b[0m\n\u001b[0;32m--> 775\u001b[0;31m                                 restore_signals, start_new_session)\n\u001b[0m\u001b[1;32m    776\u001b[0m         \u001b[0;32mexcept\u001b[0m\u001b[0;34m:\u001b[0m\u001b[0;34m\u001b[0m\u001b[0;34m\u001b[0m\u001b[0m\n\u001b[1;32m    777\u001b[0m             \u001b[0;31m# Cleanup if the child failed starting.\u001b[0m\u001b[0;34m\u001b[0m\u001b[0;34m\u001b[0m\u001b[0;34m\u001b[0m\u001b[0m\n",
      "\u001b[0;32m/apps/developers/compilers/anaconda/2019.10/1/default/lib/python3.7/subprocess.py\u001b[0m in \u001b[0;36m_execute_child\u001b[0;34m(self, args, executable, preexec_fn, close_fds, pass_fds, cwd, env, startupinfo, creationflags, shell, p2cread, p2cwrite, c2pread, c2pwrite, errread, errwrite, restore_signals, start_new_session)\u001b[0m\n\u001b[1;32m   1520\u001b[0m                         \u001b[0;32mif\u001b[0m \u001b[0merrno_num\u001b[0m \u001b[0;34m==\u001b[0m \u001b[0merrno\u001b[0m\u001b[0;34m.\u001b[0m\u001b[0mENOENT\u001b[0m\u001b[0;34m:\u001b[0m\u001b[0;34m\u001b[0m\u001b[0;34m\u001b[0m\u001b[0m\n\u001b[1;32m   1521\u001b[0m                             \u001b[0merr_msg\u001b[0m \u001b[0;34m+=\u001b[0m \u001b[0;34m': '\u001b[0m \u001b[0;34m+\u001b[0m \u001b[0mrepr\u001b[0m\u001b[0;34m(\u001b[0m\u001b[0merr_filename\u001b[0m\u001b[0;34m)\u001b[0m\u001b[0;34m\u001b[0m\u001b[0;34m\u001b[0m\u001b[0m\n\u001b[0;32m-> 1522\u001b[0;31m                     \u001b[0;32mraise\u001b[0m \u001b[0mchild_exception_type\u001b[0m\u001b[0;34m(\u001b[0m\u001b[0merrno_num\u001b[0m\u001b[0;34m,\u001b[0m \u001b[0merr_msg\u001b[0m\u001b[0;34m,\u001b[0m \u001b[0merr_filename\u001b[0m\u001b[0;34m)\u001b[0m\u001b[0;34m\u001b[0m\u001b[0;34m\u001b[0m\u001b[0m\n\u001b[0m\u001b[1;32m   1523\u001b[0m                 \u001b[0;32mraise\u001b[0m \u001b[0mchild_exception_type\u001b[0m\u001b[0;34m(\u001b[0m\u001b[0merr_msg\u001b[0m\u001b[0;34m)\u001b[0m\u001b[0;34m\u001b[0m\u001b[0;34m\u001b[0m\u001b[0m\n\u001b[1;32m   1524\u001b[0m \u001b[0;34m\u001b[0m\u001b[0m\n",
      "\u001b[0;31mFileNotFoundError\u001b[0m: [Errno 2] No such file or directory: 'Rscript': 'Rscript'"
     ]
    }
   ],
   "source": [
    "for k, command in commands.items():\n",
    "    if k in args.steps_to_run: \n",
    "        if not args.no_print_commands:\n",
    "            print(command)\n",
    "        if not args.dry_run:\n",
    "            print(messages[k])\n",
    "            call(shlex.split(command))"
   ]
  },
  {
   "cell_type": "code",
   "execution_count": null,
   "id": "cf5ddda0",
   "metadata": {},
   "outputs": [],
   "source": [
    "yaml.dump(config, open(os.path.join(os.path.dirname(config[\"filename_patterns\"][\"gwas\"]), \"config.yaml\"), \"w\"))"
   ]
  },
  {
   "cell_type": "code",
   "execution_count": null,
   "id": "438a6063",
   "metadata": {},
   "outputs": [],
   "source": [
    "f\"python main_bgenie.py --run_id {run_id} --experiment_id 1 --gwas_software bgenie --steps_to_run 1\""
   ]
  }
 ],
 "metadata": {
  "hide_input": false,
  "kernelspec": {
   "display_name": "Python 3 (ipykernel)",
   "language": "python",
   "name": "python3"
  },
  "language_info": {
   "codemirror_mode": {
    "name": "ipython",
    "version": 3
   },
   "file_extension": ".py",
   "mimetype": "text/x-python",
   "name": "python",
   "nbconvert_exporter": "python",
   "pygments_lexer": "ipython3",
   "version": "3.9.13"
  },
  "toc": {
   "base_numbering": 1,
   "nav_menu": {},
   "number_sections": true,
   "sideBar": true,
   "skip_h1_title": false,
   "title_cell": "Table of Contents",
   "title_sidebar": "Contents",
   "toc_cell": false,
   "toc_position": {},
   "toc_section_display": true,
   "toc_window_display": true
  },
  "varInspector": {
   "cols": {
    "lenName": 16,
    "lenType": 16,
    "lenVar": 40
   },
   "kernels_config": {
    "python": {
     "delete_cmd_postfix": "",
     "delete_cmd_prefix": "del ",
     "library": "var_list.py",
     "varRefreshCmd": "print(var_dic_list())"
    },
    "r": {
     "delete_cmd_postfix": ") ",
     "delete_cmd_prefix": "rm(",
     "library": "var_list.r",
     "varRefreshCmd": "cat(var_dic_list()) "
    }
   },
   "types_to_exclude": [
    "module",
    "function",
    "builtin_function_or_method",
    "instance",
    "_Feature"
   ],
   "window_display": false
  }
 },
 "nbformat": 4,
 "nbformat_minor": 5
}
