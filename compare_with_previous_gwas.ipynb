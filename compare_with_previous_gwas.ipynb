{
 "cells": [
  {
   "cell_type": "markdown",
   "id": "ff84f8a2",
   "metadata": {},
   "source": [
    "### Preliminaries"
   ]
  },
  {
   "cell_type": "code",
   "execution_count": 1,
   "id": "d62ac274",
   "metadata": {
    "ExecuteTime": {
     "start_time": "2022-09-27T17:35:18.410Z"
    },
    "hide_input": false
   },
   "outputs": [],
   "source": [
    "import glob\n",
    "import os\n",
    "import numpy as np\n",
    "import pandas as pd\n",
    "from IPython import embed\n",
    "import functools\n",
    "\n",
    "from data.gwas_details import GWAS_dict\n",
    "GWAS_PATH = \"data/other_gwas/original_files\""
   ]
  },
  {
   "cell_type": "code",
   "execution_count": 2,
   "id": "3ed11cf3",
   "metadata": {
    "ExecuteTime": {
     "end_time": "2022-09-27T17:21:13.323782Z",
     "start_time": "2022-09-27T17:21:13.319753Z"
    }
   },
   "outputs": [],
   "source": [
    "gwas_harmonized_pattern = \"data/other_gwas/preprocessed_files/{prefix}__{phenotype}.tsv\"\n",
    "gwas_selected_snps_pattern = \"data/other_gwas/preprocessed_files/{prefix}__{phenotype}__selected_snps.tsv\"\n",
    "COMA_GWAS_SUMMARY = \"results/gwas_loci_summary_across_runs.csv\"\n",
    "LOGP_PATH = \"results/log10p_for_selected_snps_across_gwas.csv\""
   ]
  },
  {
   "cell_type": "markdown",
   "id": "fac42396",
   "metadata": {},
   "source": [
    "### GWAS file - reduction"
   ]
  },
  {
   "cell_type": "code",
   "execution_count": null,
   "id": "5beef2cf",
   "metadata": {
    "ExecuteTime": {
     "end_time": "2022-09-27T16:15:19.178362Z",
     "start_time": "2022-09-27T16:14:53.686915Z"
    },
    "deletable": false,
    "editable": false,
    "hide_input": false,
    "run_control": {
     "frozen": true
    }
   },
   "outputs": [],
   "source": [
    "for file, info in GWAS_dict.items():\n",
    "    prefix = info[\"prefix\"]\n",
    "    phenotype = info[\"phenotype\"].replace(\" \", \"_\")\n",
    "    o_filename = f\"{prefix}__{phenotype}.tsv\"\n",
    "    file = os.path.join(GWAS_PATH, file)\n",
    "    df = pd.read_csv(file, sep=\"\\t\").rename(info[\"columns\"], axis=1)    \n",
    "    df = df[[\"CHR\", \"BP\", \"SNP\", \"P\"]]\n",
    "    df.to_csv(o_filename, sep='\\t', header=True, index=False)"
   ]
  },
  {
   "cell_type": "markdown",
   "id": "019c14ce",
   "metadata": {},
   "source": [
    "### Filter GWAS files for specific SNPS"
   ]
  },
  {
   "cell_type": "markdown",
   "id": "513c1f35",
   "metadata": {},
   "source": [
    "#### Find significant SNPs across COMA runs."
   ]
  },
  {
   "cell_type": "code",
   "execution_count": null,
   "id": "b0195a47",
   "metadata": {
    "ExecuteTime": {
     "end_time": "2022-09-27T16:51:49.008923Z",
     "start_time": "2022-09-27T16:51:48.987747Z"
    },
    "hide_input": true
   },
   "outputs": [],
   "source": [
    "gwas_loci_summary_across_runs_df = pd.read_csv(COMA_GWAS_SUMMARY)\n",
    "idx = gwas_loci_summary_across_runs_df.groupby([\"region\"])[\"P\"].transform(min) == gwas_loci_summary_across_runs_df[\"P\"]\n",
    "\n",
    "best_association_per_region = gwas_loci_summary_across_runs_df[idx].sort_values(\"region\")\n",
    "best_snps = set(best_association_per_region.SNP)"
   ]
  },
  {
   "cell_type": "markdown",
   "id": "99fb2b0b",
   "metadata": {},
   "source": [
    "#### Filter GWAS files for selected SNPs"
   ]
  },
  {
   "cell_type": "code",
   "execution_count": null,
   "id": "4416617d",
   "metadata": {
    "ExecuteTime": {
     "end_time": "2022-09-27T16:54:19.295972Z",
     "start_time": "2022-09-27T16:53:58.719658Z"
    },
    "deletable": false,
    "editable": false,
    "hide_input": false,
    "run_control": {
     "frozen": true
    }
   },
   "outputs": [],
   "source": [
    "for file, info in GWAS_dict.items():\n",
    "    \n",
    "    prefix = info[\"prefix\"]\n",
    "    phenotype = info[\"phenotype\"].replace(\" \", \"_\")\n",
    "    \n",
    "    o_filename = gwas_harmonized_pattern.format(prefix=prefix, phenotype=phenotype)           \n",
    "    ofile_selected = gwas_selected_snps_pattern.format(prefix=prefix, phenotype=phenotype)           \n",
    "    \n",
    "    df = pd.read_csv(o_filename, sep=\"\\t\")\n",
    "    keep = df.apply(lambda row: row.SNP in best_snps, axis=1)    \n",
    "    \n",
    "    print(ofile_selected)\n",
    "    df[keep].to_csv(ofile_selected, sep=\"\\t\", index=False, header=True)        "
   ]
  },
  {
   "cell_type": "code",
   "execution_count": null,
   "id": "d8728577",
   "metadata": {
    "ExecuteTime": {
     "end_time": "2022-09-27T16:47:13.467143Z",
     "start_time": "2022-09-27T16:47:12.959516Z"
    },
    "deletable": false,
    "editable": false,
    "run_control": {
     "frozen": true
    }
   },
   "outputs": [],
   "source": [
    "pp = []\n",
    "\n",
    "for file, info in GWAS_dict.items():\n",
    "    \n",
    "    prefix = info[\"prefix\"]\n",
    "    phenotype = info[\"phenotype\"].replace(\" \", \"_\")\n",
    "        \n",
    "    ofile_selected_snps = gwas_selected_snps_pattern.format(prefix=prefix, phenotype=phenotype)\n",
    "    \n",
    "    df = pd.read_csv(ofile_selected, sep=\"\\t\")\n",
    "    df = df[[\"SNP\", \"P\"]]\n",
    "    df = df.rename({\"P\": f\"{prefix}__{phenotype}\"}, axis=1)\n",
    "    \n",
    "    pp.append(df)\n",
    "    \n",
    "\n",
    "pp = [dd.set_index(\"SNP\") for dd in pp]\n",
    "snps_across_gwas = functools.reduce(lambda df1,df2: pd.merge(df1,df2,on='SNP'), pp)\n",
    "\n",
    "# WHAT'S HAPPENING WITH THIS SNP?\n",
    "snps_across_gwas = snps_across_gwas.drop(\"rs533885\")\n",
    "log10p_gwas_df = (-np.log10(snps_across_gwas))\n",
    "log10p_gwas_df.to_csv(LOGP_PATH, index=True)"
   ]
  },
  {
   "cell_type": "code",
   "execution_count": null,
   "id": "51b0854b",
   "metadata": {
    "ExecuteTime": {
     "end_time": "2022-09-27T17:26:34.193704Z",
     "start_time": "2022-09-27T17:26:34.122942Z"
    }
   },
   "outputs": [],
   "source": [
    "log10p_gwas_df = pd.read_csv(LOGP_PATH)\n",
    "log10p_gwas_df"
   ]
  }
 ],
 "metadata": {
  "hide_input": false,
  "kernelspec": {
   "display_name": "Python 3 (ipykernel)",
   "language": "python",
   "name": "python3"
  },
  "language_info": {
   "codemirror_mode": {
    "name": "ipython",
    "version": 3
   },
   "file_extension": ".py",
   "mimetype": "text/x-python",
   "name": "python",
   "nbconvert_exporter": "python",
   "pygments_lexer": "ipython3",
   "version": "3.9.13"
  },
  "toc": {
   "base_numbering": 1,
   "nav_menu": {},
   "number_sections": true,
   "sideBar": true,
   "skip_h1_title": false,
   "title_cell": "Table of Contents",
   "title_sidebar": "Contents",
   "toc_cell": false,
   "toc_position": {
    "height": "calc(100% - 180px)",
    "left": "10px",
    "top": "150px",
    "width": "234px"
   },
   "toc_section_display": true,
   "toc_window_display": true
  },
  "varInspector": {
   "cols": {
    "lenName": 16,
    "lenType": 16,
    "lenVar": 40
   },
   "kernels_config": {
    "python": {
     "delete_cmd_postfix": "",
     "delete_cmd_prefix": "del ",
     "library": "var_list.py",
     "varRefreshCmd": "print(var_dic_list())"
    },
    "r": {
     "delete_cmd_postfix": ") ",
     "delete_cmd_prefix": "rm(",
     "library": "var_list.r",
     "varRefreshCmd": "cat(var_dic_list()) "
    }
   },
   "types_to_exclude": [
    "module",
    "function",
    "builtin_function_or_method",
    "instance",
    "_Feature"
   ],
   "window_display": false
  }
 },
 "nbformat": 4,
 "nbformat_minor": 5
}
