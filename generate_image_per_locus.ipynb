{
 "cells": [
  {
   "cell_type": "code",
   "execution_count": null,
   "id": "a22c4ae9-fceb-4896-8fcf-1dd14e436bfc",
   "metadata": {},
   "outputs": [],
   "source": [
    "import os\n",
    "HOME = os.environ[\"HOME\"]\n",
    "os.environ[\"CARDIAC_GWAS_REPO\"] = CARDIAC_GWAS_REPO = f\"{HOME}/01_repos/CardiacGWAS\"\n",
    "os.environ[\"CARDIAC_COMA_REPO\"] = CARDIAC_COMA_REPO = f\"{HOME}/01_repos/CardiacCOMA/\"\n",
    "os.environ[\"GWAS_REPO\"] = GWAS_REPO = f\n",
    "\n",
    "MLRUNS_DIR = f\"{CARDIAC_COMA_REPO}/mlruns\"\n",
    "#os.chdir(CARDIAC_COMA_REPO)"
   ]
  },
  {
   "cell_type": "code",
   "execution_count": null,
   "id": "b59fe5f4-179a-407f-a03e-1513a061331f",
   "metadata": {},
   "outputs": [],
   "source": [
    "import mlflow\n",
    "from mlflow.tracking import MlflowClient\n",
    "\n",
    "import os, sys\n",
    "\n",
    "import torch\n",
    "import torch.nn.functional as F\n",
    "\n",
    "from CardiacCOMA.config.cli_args import overwrite_config_items\n",
    "from CardiacCOMA.config.load_config import load_yaml_config, to_dict\n",
    "from CardiacCOMA.utils.helpers import get_datamodule, get_lightning_module\n",
    "from CardiacCOMA.utils.mlflow_helpers import get_model_pretrained_weights\n",
    "from CardiacCOMA.utils.CardioMesh.CardiacMesh import transform_mesh\n",
    "\n",
    "import ipywidgets as widgets\n",
    "from ipywidgets import interact\n",
    "from IPython.display import Image, display, Markdown, clear_output\n",
    "\n",
    "import pandas as pd\n",
    "import shlex\n",
    "from subprocess import check_output\n",
    "\n",
    "import pickle as pkl\n",
    "import pytorch_lightning as pl\n",
    "\n",
    "from argparse import Namespace\n",
    "import matplotlib.pyplot as plt\n",
    "\n",
    "import numpy as np\n",
    "import pandas as pd\n",
    "from IPython import embed\n",
    "sys.path.insert(0, '..')\n",
    "\n",
    "from copy import deepcopy\n",
    "from pprint import pprint\n",
    "\n",
    "from typing import List\n",
    "from tqdm import tqdm\n",
    "\n",
    "import pandas as pd\n",
    "\n",
    "import pyvista as pv\n",
    "from ipywidgets import interact, interactive, fixed, interact_manual\n",
    "\n",
    "from auxiliary import load_data\n",
    "from auxiliary import get_model_pretrained_weights\n",
    "import warnings\n",
    "\n",
    "from image_helpers import merge_pngs"
   ]
  },
  {
   "cell_type": "code",
   "execution_count": null,
   "id": "0ca98199-6c81-4f44-a9a1-8ab1c965c9e6",
   "metadata": {},
   "outputs": [],
   "source": [
    "from image_helpers import merge_pngs"
   ]
  },
  {
   "cell_type": "code",
   "execution_count": null,
   "id": "2f7cf5cc-1d39-4ffc-a41a-78e72df8ddee",
   "metadata": {},
   "outputs": [],
   "source": [
    "regions = [\n",
    "   \"chr17_27\",\n",
    "   \"chr12_69\",\n",
    "   \"chr6_78\",\n",
    "   \"chr2_108\",\n",
    "   \"chr11_2\",\n",
    "   \"chr5_103\",\n",
    "   \"chr1_124\",\n",
    "   \"chr6_84\",\n",
    "   \"chr2_69\",\n",
    "   \"chr12_67\"\n",
    "]"
   ]
  },
  {
   "cell_type": "code",
   "execution_count": null,
   "id": "a9f9c6ef-a481-4017-b998-e66313d196ba",
   "metadata": {},
   "outputs": [],
   "source": [
    "good_runs_df = pd.read_csv(f\"{CARDIAC_GWAS_REPO}/results/good_runs.csv\")\n",
    "run_ids = good_runs_df.run_id.to_list()\n",
    "\n",
    "gwas_harmonized_pattern = \"data/other_gwas/preprocessed_files/{prefix}__{phenotype}.tsv\"\n",
    "gwas_selected_snps_pattern = \"data/other_gwas/preprocessed_files/{prefix}__{phenotype}__selected_snps.tsv\"\n",
    "COMA_GWAS_SUMMARY = \"results/gwas_loci_summary_across_runs.csv\"\n",
    "LOGP_PATH = \"results/log10p_for_selected_snps_across_gwas.csv\""
   ]
  },
  {
   "cell_type": "code",
   "execution_count": null,
   "id": "86864167-7f03-4e1b-98a6-1160be5e65d6",
   "metadata": {},
   "outputs": [],
   "source": [
    "good_runs_df = pd.read_csv(f\"{CARDIAC_GWAS_REPO}/results/good_runs.csv\")\n",
    "run_ids = good_runs_df.run_id.to_list()\n",
    "gwas_loci_summary_across_runs_df = pd.read_csv(COMA_GWAS_SUMMARY)\n",
    "\n",
    "# get index of best locus/variable\n",
    "idx = gwas_loci_summary_across_runs_df.groupby([\"region\"])[\"P\"].transform(min) == gwas_loci_summary_across_runs_df[\"P\"]\n",
    "\n",
    "best_association_per_region = gwas_loci_summary_across_runs_df[idx].sort_values(\"region\")\n",
    "best_snps = set(best_association_per_region.SNP)\n",
    "\n",
    "regions = { \n",
    "    f\"{assoc[1].region} ({assoc[1].P:.1e})\": assoc[1].region \n",
    "    for assoc in best_association_per_region.sort_values(\"P\").iterrows() \n",
    "} \n",
    "\n",
    "del regions[\"chr6_79 (4.5e-20)\"]\n",
    "\n",
    "_best_association_per_region = best_association_per_region.set_index(\"region\")\n",
    "# assoc = _best_association_per_region.loc[region]\n",
    "#run_id, z_variable = assoc.run, assoc.pheno[-4:]"
   ]
  },
  {
   "cell_type": "code",
   "execution_count": null,
   "id": "6d05c245-c501-4f16-8939-d6c68eda16e9",
   "metadata": {},
   "outputs": [],
   "source": [
    "_best_association_per_region"
   ]
  },
  {
   "cell_type": "code",
   "execution_count": null,
   "id": "696c695e-4437-4639-bfe2-4cb0a5b6461f",
   "metadata": {},
   "outputs": [],
   "source": [
    "exp_id = \"1\""
   ]
  },
  {
   "cell_type": "code",
   "execution_count": null,
   "id": "83156b11-4cea-4c98-b948-f8037140859c",
   "metadata": {},
   "outputs": [],
   "source": [
    "from PIL import Image"
   ]
  },
  {
   "cell_type": "code",
   "execution_count": null,
   "id": "62f2ac2e-de1a-4f13-a957-f583cac8afa1",
   "metadata": {},
   "outputs": [],
   "source": [
    "img = Image.open(manhattan_filename)"
   ]
  },
  {
   "cell_type": "code",
   "execution_count": null,
   "id": "85ff1d39-c7ca-4be0-b43f-1c1f8a7fbdf9",
   "metadata": {},
   "outputs": [],
   "source": []
  },
  {
   "cell_type": "code",
   "execution_count": null,
   "id": "2f91db52-a72c-4237-a0f4-ffaedc56ba8e",
   "metadata": {},
   "outputs": [],
   "source": [
    "for region in tqdm(regions.values()):\n",
    "  \n",
    "    assoc = _best_association_per_region.loc[region]\n",
    "    run_id, z = assoc.run, assoc.pheno[-4:]\n",
    "  \n",
    "    df = pd.read_csv(f\"{MLRUNS_DIR}/{exp_id}/{run_id}/artifacts/output/latent_vector.csv\").set_index(\"ID\")\n",
    "          \n",
    "    z_effect_figs_dir = f\"{MLRUNS_DIR}/{exp_id}/{run_id}/artifacts/z_effect_on_shape\"\n",
    "    shapes_filename = f\"{z_effect_figs_dir}/{z}.png\"\n",
    "    \n",
    "    manhattan_filename = f\"GWAS__{z}__{exp_id}_{run_id}__manhattan.png\"\n",
    "    manhattan_filename = f\"{MLRUNS_DIR}/{exp_id}/{run_id}/artifacts/GWAS_adj_10PCs/figures/{manhattan_filename}\"\n",
    "            \n",
    "    locuszoom_filename = f\"/home/rodrigo/tmp/locuszoom_by_region/{region}__500kb__{z}.png\"\n",
    "                \n",
    "    \n",
    "    concat_fig = f\"{region}.png\"\n",
    "    # print(shapes_filename, manhattan_filename, locuszoom_filename)\n",
    "    try:\n",
    "        \n",
    "        manhattan_img = Image.open(manhattan_filename)\n",
    "        locuszoom_img = Image.open(locuszoom_filename)\n",
    "        shapes_img = Image.open(shapes_filename)\n",
    "    \n",
    "        max_x_size = max([ img.size[0] for img in [shapes_img, manhattan_img, locuszoom_img]])\n",
    "                        \n",
    "        manhattan_dims = (max_x_size, int(manhattan_img.size[1] * max_x_size // manhattan_img.size[0]))\n",
    "        manhattan_img = manhattan_img.resize(manhattan_dims)\n",
    "        \n",
    "        # locuszoom_ratio = max_x_size / locuszoom_img.size[0]\n",
    "        locuszoom_dims = (max_x_size, locuszoom_img.size[1] * max_x_size // locuszoom_img.size[0])\n",
    "        locuszoom_img = locuszoom_img.resize(locuszoom_dims)\n",
    "        \n",
    "        # shapes_ratio = max_x_size / shapes_img.size[0]\n",
    "        shapes_dims = (max_x_size, max_x_size * shapes_img.size[1] // shapes_img.size[0] )\n",
    "        shapes_img = shapes_img.resize(shapes_dims)\n",
    "        \n",
    "        merge_pngs([shapes_filename, manhattan_filename, locuszoom_filename], concat_fig, \"vertically\")  \n",
    "        \n",
    "        display(shapes_img)\n",
    "        display(manhattan_img)\n",
    "        display(locuszoom_img)\n",
    "        \n",
    "    except FileNotFoundError:\n",
    "        continue"
   ]
  },
  {
   "cell_type": "code",
   "execution_count": null,
   "id": "121d5c13-96ab-4172-a48a-4c15bd74559a",
   "metadata": {},
   "outputs": [],
   "source": []
  }
 ],
 "metadata": {
  "kernelspec": {
   "display_name": "Python 3 (ipykernel)",
   "language": "python",
   "name": "python3"
  },
  "language_info": {
   "codemirror_mode": {
    "name": "ipython",
    "version": 3
   },
   "file_extension": ".py",
   "mimetype": "text/x-python",
   "name": "python",
   "nbconvert_exporter": "python",
   "pygments_lexer": "ipython3",
   "version": "3.9.12"
  }
 },
 "nbformat": 4,
 "nbformat_minor": 5
}
